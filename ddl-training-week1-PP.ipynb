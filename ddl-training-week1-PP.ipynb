{
  "cells": [
    {
      "metadata": {
        "trusted": true
      },
      "cell_type": "code",
      "source": "#Accept two int values from the user and return their product. If the product is greater than 1000, then return their sum\ndef product(number1, number2):\n    result = number1 * number2\n    if result > 1000:\n        result = number1 + number2\n    return result\n\nnumber1 = input('Enter first number')\nnumber2 = input('Enter second number')\n\ntry:\n    print(product(int(number1), int(number2)))\nexcept ValueError:\n    print('Input is not a number')",
      "execution_count": 1,
      "outputs": [
        {
          "output_type": "stream",
          "name": "stdout",
          "text": "Enter first number20\nEnter second number10\n200\n"
        }
      ]
    },
    {
      "metadata": {
        "trusted": true
      },
      "cell_type": "code",
      "source": "#Given a range of numbers. Iterate from o^th number to the end number and print the sum of the current number and previous number\n\ndef sumNumbers(num):\n    i = 0\n    total = 0\n    for i in range(num):\n        total = total + i\n    return total  \n\nprint(sumNumbers(5))\n\n#sum of numbers in a list\nlist = [1,2,3,4,5]\ntotal = 0\n\nfor i in list:\n    total = total + i\n\nprint(total)\n",
      "execution_count": 3,
      "outputs": [
        {
          "output_type": "stream",
          "text": "10\n15\n",
          "name": "stdout"
        }
      ]
    },
    {
      "metadata": {
        "trusted": true
      },
      "cell_type": "code",
      "source": "#Accept string from the user and display only those characters which are present at an even index\nuserinput = input('Enter the text: ')\n\nprint(len(userinput))\ni = 0\n\nwhile i < len(userinput):\n    if i%2 == 0: \n        print(userinput[i])\n    i = i + 1",
      "execution_count": 4,
      "outputs": [
        {
          "output_type": "stream",
          "name": "stdout",
          "text": "Enter the text: this is sample text\n19\nt\ni\n \ns\ns\nm\nl\n \ne\nt\n"
        }
      ]
    },
    {
      "metadata": {
        "trusted": true
      },
      "cell_type": "code",
      "source": "#Return the number of times that the string “Emma” appears anywhere in the given string\nuserinput = input('Enter the string: ')\n\nwordlist = userinput.split()\ncount = 0\n\nfor i in wordlist:\n    #if i == 'Emma':\n    if i.upper() == 'EMMA':\n        count = count + 1\n\nprint('There are '+str(count)+' occurunces')",
      "execution_count": 9,
      "outputs": [
        {
          "output_type": "stream",
          "name": "stdout",
          "text": "Enter the string: Her name is Emma\nThere are 1 occurunces\n"
        }
      ]
    },
    {
      "metadata": {
        "trusted": true
      },
      "cell_type": "code",
      "source": "#Given a two list of ints create a third list such that should contain only odd numbers from the first list and even numbers from the second list\nlist1 = [1,2,3,4,5,6]\nlist2 = [6,7,8,9]\nlist3 = []\n\nfor i in list1:\n    if i%2 != 0:\n        list3.append(i)\n        \nfor j in list2:\n    if j%2 == 0:\n        list3.append(j)\n        \nprint(list3)        ",
      "execution_count": 10,
      "outputs": [
        {
          "output_type": "stream",
          "text": "[1, 3, 5, 6, 8]\n",
          "name": "stdout"
        }
      ]
    }
  ],
  "metadata": {
    "kernelspec": {
      "name": "python36",
      "display_name": "Python 3.6",
      "language": "python"
    },
    "language_info": {
      "mimetype": "text/x-python",
      "nbconvert_exporter": "python",
      "name": "python",
      "pygments_lexer": "ipython3",
      "version": "3.6.6",
      "file_extension": ".py",
      "codemirror_mode": {
        "version": 3,
        "name": "ipython"
      }
    }
  },
  "nbformat": 4,
  "nbformat_minor": 2
}