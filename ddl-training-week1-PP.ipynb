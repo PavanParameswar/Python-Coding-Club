{
  "cells": [
    {
      "metadata": {
        "trusted": true
      },
      "cell_type": "code",
      "source": "#Accept two int values from the user and return their product. If the product is greater than 1000, then return their sum\ndef product(number1, number2):\n    result = number1 * number2\n    if result > 1000:\n        result = number1 + number2\n    return result\n\nnumber1 = input('Enter first number')\nnumber2 = input('Enter second number')\n\ntry:\n    print(product(int(number1), int(number2)))\nexcept ValueError:\n    print('Input is not a number')",
      "execution_count": 1,
      "outputs": [
        {
          "output_type": "stream",
          "name": "stdout",
          "text": "Enter first number100\nEnter second number200\n300\n"
        }
      ]
    },
    {
      "metadata": {
        "trusted": true
      },
      "cell_type": "code",
      "source": "",
      "execution_count": null,
      "outputs": []
    }
  ],
  "metadata": {
    "kernelspec": {
      "name": "python36",
      "display_name": "Python 3.6",
      "language": "python"
    },
    "language_info": {
      "mimetype": "text/x-python",
      "nbconvert_exporter": "python",
      "name": "python",
      "pygments_lexer": "ipython3",
      "version": "3.6.6",
      "file_extension": ".py",
      "codemirror_mode": {
        "version": 3,
        "name": "ipython"
      }
    }
  },
  "nbformat": 4,
  "nbformat_minor": 2
}